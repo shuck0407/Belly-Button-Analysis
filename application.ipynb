{
 "cells": [
  {
   "cell_type": "code",
   "execution_count": 1,
   "metadata": {},
   "outputs": [],
   "source": [
    "# Import dependencies\n",
    "import datetime as dt\n",
    "import numpy as np\n",
    "import pandas as pd\n",
    "import os\n",
    "import json\n",
    "\n",
    "#Import the stored  functions file\n",
    "import stored_functions\n",
    "\n",
    "#sqlqlchemy libs\n",
    "import sqlalchemy\n",
    "from sqlalchemy.ext.automap import automap_base\n",
    "from sqlalchemy.orm import Session\n",
    "from sqlalchemy import create_engine, func, inspect, desc\n",
    "\n",
    "#Plotly libs\n",
    "import plotly\n",
    "import plotly.plotly as py\n",
    "import plotly.figure_factory as ff\n",
    "import plotly.graph_objs as go\n",
    "\n",
    "from flask import Flask, render_template, jsonify, redirect\n",
    "from flask_sqlalchemy import SQLAlchemy\n",
    "from werkzeug.wrappers import Request, Response\n",
    "\n"
   ]
  },
  {
   "cell_type": "code",
   "execution_count": null,
   "metadata": {},
   "outputs": [],
   "source": [
    "app = Flask(__name__)\n",
    "app.debug = True\n",
    "\n",
    "#Define each Flask route\n",
    "@app.route(\"/\")\n",
    "def welcome():\n",
    "    return render_template('index.html')\n",
    "    \n",
    "@app.route(\"/samples/<sample>\")\n",
    "def samplepick(sample):\n",
    "\n",
    "    pie_chart = stored_functions.pie_chart_data(sample)\n",
    "\n",
    "    bubble_chart = stored_functions.bubble_chart_data(sample)\n",
    "\n",
    "    chart_dict = {'pie':{pie_chart}, 'bubble': {bubble_chart}}\n",
    "\n",
    "    return(chart_dict)\n",
    "\n",
    "    \n",
    "\n",
    "@app.route(\"/buttons\")\n",
    "def buttons():\n",
    "    engine = create_engine(\"sqlite:///db/bellybutton.sqlite\")\n",
    "\n",
    "    Base = automap_base()\n",
    "    \n",
    "    Base.prepare(engine, reflect=True)\n",
    "    Samples_metadata = Base.classes.sample_metadata\n",
    "\n",
    "    # Create our session (link) from Python to the DB\n",
    "    session = Session(engine)\n",
    "\n",
    "    sql_stmt2 = session.query(Samples_metadata).statement\n",
    "    metadata_df = pd.read_sql_query(sql_stmt2, session.bind)\n",
    "\n",
    "    #populate the bellybutton dropdown list\n",
    "    buttons = metadata_df['sample'].tolist()\n",
    "\n",
    "    return (jsonify(buttons))\n",
    "\n",
    "#if __name__ == \"__main__\":\n",
    " #   from werkzeug.serving import run_simple\n",
    "   # run_simple('localhost', 9000, app)\n"
   ]
  },
  {
   "cell_type": "code",
   "execution_count": 4,
   "metadata": {},
   "outputs": [
    {
     "ename": "AttributeError",
     "evalue": "module 'stored_functions' has no attribute 'get_metadata'",
     "output_type": "error",
     "traceback": [
      "\u001b[1;31m---------------------------------------------------------------------------\u001b[0m",
      "\u001b[1;31mAttributeError\u001b[0m                            Traceback (most recent call last)",
      "\u001b[1;32m<ipython-input-4-51071e4356c2>\u001b[0m in \u001b[0;36m<module>\u001b[1;34m()\u001b[0m\n\u001b[0;32m      5\u001b[0m \u001b[0mbubble_chart\u001b[0m \u001b[1;33m=\u001b[0m \u001b[0mstored_functions\u001b[0m\u001b[1;33m.\u001b[0m\u001b[0mbubble_chart_data\u001b[0m\u001b[1;33m(\u001b[0m\u001b[0msample\u001b[0m\u001b[1;33m)\u001b[0m\u001b[1;33m\u001b[0m\u001b[0m\n\u001b[0;32m      6\u001b[0m \u001b[1;33m\u001b[0m\u001b[0m\n\u001b[1;32m----> 7\u001b[1;33m \u001b[0mmeta_dict\u001b[0m \u001b[1;33m=\u001b[0m \u001b[0mstored_functions\u001b[0m\u001b[1;33m.\u001b[0m\u001b[0mget_metadata\u001b[0m\u001b[1;33m(\u001b[0m\u001b[0msample\u001b[0m\u001b[1;33m)\u001b[0m\u001b[1;33m\u001b[0m\u001b[0m\n\u001b[0m\u001b[0;32m      8\u001b[0m \u001b[1;33m\u001b[0m\u001b[0m\n\u001b[0;32m      9\u001b[0m \u001b[0mchart_dict\u001b[0m \u001b[1;33m=\u001b[0m \u001b[1;33m{\u001b[0m\u001b[1;34m'pie'\u001b[0m\u001b[1;33m:\u001b[0m \u001b[0mpie_chart\u001b[0m\u001b[1;33m,\u001b[0m \u001b[1;34m'bubble'\u001b[0m\u001b[1;33m:\u001b[0m \u001b[0mbubble_chart\u001b[0m\u001b[1;33m,\u001b[0m \u001b[1;34m'meta'\u001b[0m\u001b[1;33m:\u001b[0m\u001b[0mmeta_dict\u001b[0m\u001b[1;33m}\u001b[0m\u001b[1;33m\u001b[0m\u001b[0m\n",
      "\u001b[1;31mAttributeError\u001b[0m: module 'stored_functions' has no attribute 'get_metadata'"
     ]
    }
   ],
   "source": [
    "sample = '950'\n",
    "\n",
    "pie_chart = stored_functions.pie_chart_data(sample)\n",
    "\n",
    "bubble_chart = stored_functions.bubble_chart_data(sample)\n",
    "\n",
    "meta_dict = stored_functions.get_metadata(sample)\n",
    "\n",
    "chart_dict = {'pie': pie_chart, 'bubble': bubble_chart, 'meta':meta_dict}\n",
    "\n",
    "\n",
    "chart_dict"
   ]
  },
  {
   "cell_type": "code",
   "execution_count": null,
   "metadata": {},
   "outputs": [],
   "source": []
  }
 ],
 "metadata": {
  "kernelspec": {
   "display_name": "Python [conda env:pythondata]",
   "language": "python",
   "name": "conda-env-pythondata-py"
  },
  "language_info": {
   "codemirror_mode": {
    "name": "ipython",
    "version": 3
   },
   "file_extension": ".py",
   "mimetype": "text/x-python",
   "name": "python",
   "nbconvert_exporter": "python",
   "pygments_lexer": "ipython3",
   "version": "3.6.5"
  }
 },
 "nbformat": 4,
 "nbformat_minor": 2
}
